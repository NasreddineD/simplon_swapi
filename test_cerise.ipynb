{
 "cells": [
  {
   "cell_type": "code",
   "execution_count": 88,
   "id": "25acf98c",
   "metadata": {},
   "outputs": [],
   "source": [
    "import requests\n",
    "import pandas as pd\n",
    "import json"
   ]
  },
  {
   "cell_type": "code",
   "execution_count": 76,
   "id": "6ace9718",
   "metadata": {},
   "outputs": [],
   "source": [
    "\n",
    "planets_url = 'https://swapi.dev/api/planets/'"
   ]
  },
  {
   "cell_type": "code",
   "execution_count": 105,
   "id": "bd9e5b1f",
   "metadata": {},
   "outputs": [
    {
     "data": {
      "text/plain": [
       "'https://swapi.dev/api/planets/60'"
      ]
     },
     "execution_count": 105,
     "metadata": {},
     "output_type": "execute_result"
    }
   ],
   "source": [
    "n_planets = (60)\n",
    "url = planets_url\n",
    "if n_planets > 1:\n",
    "    url = f'{planets_url}{str(n_planets)}'\n",
    "url"
   ]
  },
  {
   "cell_type": "code",
   "execution_count": 114,
   "id": "f10feb82",
   "metadata": {},
   "outputs": [
    {
     "ename": "TypeError",
     "evalue": "'int' object is not subscriptable",
     "output_type": "error",
     "traceback": [
      "\u001b[1;31m---------------------------------------------------------------------------\u001b[0m",
      "\u001b[1;31mTypeError\u001b[0m                                 Traceback (most recent call last)",
      "\u001b[1;32m<ipython-input-114-73d5353e495e>\u001b[0m in \u001b[0;36m<module>\u001b[1;34m\u001b[0m\n\u001b[0;32m      1\u001b[0m \u001b[0mr\u001b[0m \u001b[1;33m=\u001b[0m \u001b[0mrequests\u001b[0m\u001b[1;33m.\u001b[0m\u001b[0mget\u001b[0m\u001b[1;33m(\u001b[0m\u001b[0mplanets_url\u001b[0m\u001b[1;33m)\u001b[0m\u001b[1;33m\u001b[0m\u001b[1;33m\u001b[0m\u001b[0m\n\u001b[0;32m      2\u001b[0m \u001b[1;32mif\u001b[0m \u001b[0mr\u001b[0m\u001b[1;33m.\u001b[0m\u001b[0mstatus_code\u001b[0m \u001b[1;33m==\u001b[0m \u001b[1;36m200\u001b[0m\u001b[1;33m:\u001b[0m\u001b[1;33m\u001b[0m\u001b[1;33m\u001b[0m\u001b[0m\n\u001b[1;32m----> 3\u001b[1;33m     \u001b[0mdata\u001b[0m \u001b[1;33m=\u001b[0m \u001b[0mn_planets\u001b[0m\u001b[1;33m[\u001b[0m\u001b[1;34m'name'\u001b[0m\u001b[1;33m]\u001b[0m\u001b[1;33m\u001b[0m\u001b[1;33m\u001b[0m\u001b[0m\n\u001b[0m\u001b[0;32m      4\u001b[0m     \u001b[0mprint\u001b[0m\u001b[1;33m(\u001b[0m\u001b[0mdata\u001b[0m\u001b[1;33m)\u001b[0m\u001b[1;33m\u001b[0m\u001b[1;33m\u001b[0m\u001b[0m\n\u001b[0;32m      5\u001b[0m \u001b[1;32melse\u001b[0m\u001b[1;33m:\u001b[0m\u001b[1;33m\u001b[0m\u001b[1;33m\u001b[0m\u001b[0m\n",
      "\u001b[1;31mTypeError\u001b[0m: 'int' object is not subscriptable"
     ]
    }
   ],
   "source": [
    "r = requests.get(planets_url)\n",
    "if r.status_code == 200:\n",
    "    data = n_planets\n",
    "    print(data)\n",
    "else:\n",
    "    print(\"NO PLANET\")"
   ]
  },
  {
   "cell_type": "markdown",
   "id": "5837c9e0",
   "metadata": {},
   "source": [
    "# refactoring"
   ]
  },
  {
   "cell_type": "code",
   "execution_count": 112,
   "id": "1b640e99",
   "metadata": {},
   "outputs": [],
   "source": [
    "def fetch_planets(n_planets):\n",
    "    url = 'https://swapi.dev/api/planets/'\n",
    "    if n_planets > 0:\n",
    "        url = f'{url}/{str(n_planets)}'\n",
    "    r = requests.get(url)\n",
    "    if r.status_code == 200:\n",
    "        return data\n",
    "    else:\n",
    "        return None"
   ]
  },
  {
   "cell_type": "code",
   "execution_count": 108,
   "id": "8371ca8b",
   "metadata": {},
   "outputs": [
    {
     "data": {
      "text/plain": [
       "{'count': 60,\n",
       " 'next': 'https://swapi.dev/api/planets/?page=2',\n",
       " 'previous': None,\n",
       " 'results': [{'name': 'Tatooine',\n",
       "   'rotation_period': '23',\n",
       "   'orbital_period': '304',\n",
       "   'diameter': '10465',\n",
       "   'climate': 'arid',\n",
       "   'gravity': '1 standard',\n",
       "   'terrain': 'desert',\n",
       "   'surface_water': '1',\n",
       "   'population': '200000',\n",
       "   'residents': ['https://swapi.dev/api/people/1/',\n",
       "    'https://swapi.dev/api/people/2/',\n",
       "    'https://swapi.dev/api/people/4/',\n",
       "    'https://swapi.dev/api/people/6/',\n",
       "    'https://swapi.dev/api/people/7/',\n",
       "    'https://swapi.dev/api/people/8/',\n",
       "    'https://swapi.dev/api/people/9/',\n",
       "    'https://swapi.dev/api/people/11/',\n",
       "    'https://swapi.dev/api/people/43/',\n",
       "    'https://swapi.dev/api/people/62/'],\n",
       "   'films': ['https://swapi.dev/api/films/1/',\n",
       "    'https://swapi.dev/api/films/3/',\n",
       "    'https://swapi.dev/api/films/4/',\n",
       "    'https://swapi.dev/api/films/5/',\n",
       "    'https://swapi.dev/api/films/6/'],\n",
       "   'created': '2014-12-09T13:50:49.641000Z',\n",
       "   'edited': '2014-12-20T20:58:18.411000Z',\n",
       "   'url': 'https://swapi.dev/api/planets/1/'},\n",
       "  {'name': 'Alderaan',\n",
       "   'rotation_period': '24',\n",
       "   'orbital_period': '364',\n",
       "   'diameter': '12500',\n",
       "   'climate': 'temperate',\n",
       "   'gravity': '1 standard',\n",
       "   'terrain': 'grasslands, mountains',\n",
       "   'surface_water': '40',\n",
       "   'population': '2000000000',\n",
       "   'residents': ['https://swapi.dev/api/people/5/',\n",
       "    'https://swapi.dev/api/people/68/',\n",
       "    'https://swapi.dev/api/people/81/'],\n",
       "   'films': ['https://swapi.dev/api/films/1/',\n",
       "    'https://swapi.dev/api/films/6/'],\n",
       "   'created': '2014-12-10T11:35:48.479000Z',\n",
       "   'edited': '2014-12-20T20:58:18.420000Z',\n",
       "   'url': 'https://swapi.dev/api/planets/2/'},\n",
       "  {'name': 'Yavin IV',\n",
       "   'rotation_period': '24',\n",
       "   'orbital_period': '4818',\n",
       "   'diameter': '10200',\n",
       "   'climate': 'temperate, tropical',\n",
       "   'gravity': '1 standard',\n",
       "   'terrain': 'jungle, rainforests',\n",
       "   'surface_water': '8',\n",
       "   'population': '1000',\n",
       "   'residents': [],\n",
       "   'films': ['https://swapi.dev/api/films/1/'],\n",
       "   'created': '2014-12-10T11:37:19.144000Z',\n",
       "   'edited': '2014-12-20T20:58:18.421000Z',\n",
       "   'url': 'https://swapi.dev/api/planets/3/'},\n",
       "  {'name': 'Hoth',\n",
       "   'rotation_period': '23',\n",
       "   'orbital_period': '549',\n",
       "   'diameter': '7200',\n",
       "   'climate': 'frozen',\n",
       "   'gravity': '1.1 standard',\n",
       "   'terrain': 'tundra, ice caves, mountain ranges',\n",
       "   'surface_water': '100',\n",
       "   'population': 'unknown',\n",
       "   'residents': [],\n",
       "   'films': ['https://swapi.dev/api/films/2/'],\n",
       "   'created': '2014-12-10T11:39:13.934000Z',\n",
       "   'edited': '2014-12-20T20:58:18.423000Z',\n",
       "   'url': 'https://swapi.dev/api/planets/4/'},\n",
       "  {'name': 'Dagobah',\n",
       "   'rotation_period': '23',\n",
       "   'orbital_period': '341',\n",
       "   'diameter': '8900',\n",
       "   'climate': 'murky',\n",
       "   'gravity': 'N/A',\n",
       "   'terrain': 'swamp, jungles',\n",
       "   'surface_water': '8',\n",
       "   'population': 'unknown',\n",
       "   'residents': [],\n",
       "   'films': ['https://swapi.dev/api/films/2/',\n",
       "    'https://swapi.dev/api/films/3/',\n",
       "    'https://swapi.dev/api/films/6/'],\n",
       "   'created': '2014-12-10T11:42:22.590000Z',\n",
       "   'edited': '2014-12-20T20:58:18.425000Z',\n",
       "   'url': 'https://swapi.dev/api/planets/5/'},\n",
       "  {'name': 'Bespin',\n",
       "   'rotation_period': '12',\n",
       "   'orbital_period': '5110',\n",
       "   'diameter': '118000',\n",
       "   'climate': 'temperate',\n",
       "   'gravity': '1.5 (surface), 1 standard (Cloud City)',\n",
       "   'terrain': 'gas giant',\n",
       "   'surface_water': '0',\n",
       "   'population': '6000000',\n",
       "   'residents': ['https://swapi.dev/api/people/26/'],\n",
       "   'films': ['https://swapi.dev/api/films/2/'],\n",
       "   'created': '2014-12-10T11:43:55.240000Z',\n",
       "   'edited': '2014-12-20T20:58:18.427000Z',\n",
       "   'url': 'https://swapi.dev/api/planets/6/'},\n",
       "  {'name': 'Endor',\n",
       "   'rotation_period': '18',\n",
       "   'orbital_period': '402',\n",
       "   'diameter': '4900',\n",
       "   'climate': 'temperate',\n",
       "   'gravity': '0.85 standard',\n",
       "   'terrain': 'forests, mountains, lakes',\n",
       "   'surface_water': '8',\n",
       "   'population': '30000000',\n",
       "   'residents': ['https://swapi.dev/api/people/30/'],\n",
       "   'films': ['https://swapi.dev/api/films/3/'],\n",
       "   'created': '2014-12-10T11:50:29.349000Z',\n",
       "   'edited': '2014-12-20T20:58:18.429000Z',\n",
       "   'url': 'https://swapi.dev/api/planets/7/'},\n",
       "  {'name': 'Naboo',\n",
       "   'rotation_period': '26',\n",
       "   'orbital_period': '312',\n",
       "   'diameter': '12120',\n",
       "   'climate': 'temperate',\n",
       "   'gravity': '1 standard',\n",
       "   'terrain': 'grassy hills, swamps, forests, mountains',\n",
       "   'surface_water': '12',\n",
       "   'population': '4500000000',\n",
       "   'residents': ['https://swapi.dev/api/people/3/',\n",
       "    'https://swapi.dev/api/people/21/',\n",
       "    'https://swapi.dev/api/people/35/',\n",
       "    'https://swapi.dev/api/people/36/',\n",
       "    'https://swapi.dev/api/people/37/',\n",
       "    'https://swapi.dev/api/people/38/',\n",
       "    'https://swapi.dev/api/people/39/',\n",
       "    'https://swapi.dev/api/people/42/',\n",
       "    'https://swapi.dev/api/people/60/',\n",
       "    'https://swapi.dev/api/people/61/',\n",
       "    'https://swapi.dev/api/people/66/'],\n",
       "   'films': ['https://swapi.dev/api/films/3/',\n",
       "    'https://swapi.dev/api/films/4/',\n",
       "    'https://swapi.dev/api/films/5/',\n",
       "    'https://swapi.dev/api/films/6/'],\n",
       "   'created': '2014-12-10T11:52:31.066000Z',\n",
       "   'edited': '2014-12-20T20:58:18.430000Z',\n",
       "   'url': 'https://swapi.dev/api/planets/8/'},\n",
       "  {'name': 'Coruscant',\n",
       "   'rotation_period': '24',\n",
       "   'orbital_period': '368',\n",
       "   'diameter': '12240',\n",
       "   'climate': 'temperate',\n",
       "   'gravity': '1 standard',\n",
       "   'terrain': 'cityscape, mountains',\n",
       "   'surface_water': 'unknown',\n",
       "   'population': '1000000000000',\n",
       "   'residents': ['https://swapi.dev/api/people/34/',\n",
       "    'https://swapi.dev/api/people/55/',\n",
       "    'https://swapi.dev/api/people/74/'],\n",
       "   'films': ['https://swapi.dev/api/films/3/',\n",
       "    'https://swapi.dev/api/films/4/',\n",
       "    'https://swapi.dev/api/films/5/',\n",
       "    'https://swapi.dev/api/films/6/'],\n",
       "   'created': '2014-12-10T11:54:13.921000Z',\n",
       "   'edited': '2014-12-20T20:58:18.432000Z',\n",
       "   'url': 'https://swapi.dev/api/planets/9/'},\n",
       "  {'name': 'Kamino',\n",
       "   'rotation_period': '27',\n",
       "   'orbital_period': '463',\n",
       "   'diameter': '19720',\n",
       "   'climate': 'temperate',\n",
       "   'gravity': '1 standard',\n",
       "   'terrain': 'ocean',\n",
       "   'surface_water': '100',\n",
       "   'population': '1000000000',\n",
       "   'residents': ['https://swapi.dev/api/people/22/',\n",
       "    'https://swapi.dev/api/people/72/',\n",
       "    'https://swapi.dev/api/people/73/'],\n",
       "   'films': ['https://swapi.dev/api/films/5/'],\n",
       "   'created': '2014-12-10T12:45:06.577000Z',\n",
       "   'edited': '2014-12-20T20:58:18.434000Z',\n",
       "   'url': 'https://swapi.dev/api/planets/10/'}]}"
      ]
     },
     "execution_count": 108,
     "metadata": {},
     "output_type": "execute_result"
    }
   ],
   "source": [
    "planets_list = fetch_planets(1)\n",
    "planets_list"
   ]
  },
  {
   "cell_type": "code",
   "execution_count": 109,
   "id": "65163319",
   "metadata": {},
   "outputs": [
    {
     "name": "stdout",
     "output_type": "stream",
     "text": [
      "count\n",
      "next\n",
      "previous\n",
      "results\n"
     ]
    }
   ],
   "source": [
    "for x in planets_list:\n",
    "    print (x)"
   ]
  },
  {
   "cell_type": "code",
   "execution_count": 83,
   "id": "3a5e77aa",
   "metadata": {},
   "outputs": [
    {
     "data": {
      "text/html": [
       "<div>\n",
       "<style scoped>\n",
       "    .dataframe tbody tr th:only-of-type {\n",
       "        vertical-align: middle;\n",
       "    }\n",
       "\n",
       "    .dataframe tbody tr th {\n",
       "        vertical-align: top;\n",
       "    }\n",
       "\n",
       "    .dataframe thead th {\n",
       "        text-align: right;\n",
       "    }\n",
       "</style>\n",
       "<table border=\"1\" class=\"dataframe\">\n",
       "  <thead>\n",
       "    <tr style=\"text-align: right;\">\n",
       "      <th></th>\n",
       "      <th>name</th>\n",
       "      <th>climate</th>\n",
       "      <th>terrain</th>\n",
       "      <th>population</th>\n",
       "    </tr>\n",
       "  </thead>\n",
       "  <tbody>\n",
       "  </tbody>\n",
       "</table>\n",
       "</div>"
      ],
      "text/plain": [
       "Empty DataFrame\n",
       "Columns: [name, climate, terrain, population]\n",
       "Index: []"
      ]
     },
     "execution_count": 83,
     "metadata": {},
     "output_type": "execute_result"
    }
   ],
   "source": [
    "columns = ['name','climate','terrain','population']\n",
    "df_planets = pd.DataFrame(columns=columns)\n",
    "df_planets"
   ]
  },
  {
   "cell_type": "code",
   "execution_count": 110,
   "id": "ed53bc66",
   "metadata": {},
   "outputs": [
    {
     "ename": "TypeError",
     "evalue": "string indices must be integers",
     "output_type": "error",
     "traceback": [
      "\u001b[1;31m---------------------------------------------------------------------------\u001b[0m",
      "\u001b[1;31mTypeError\u001b[0m                                 Traceback (most recent call last)",
      "\u001b[1;32m<ipython-input-110-93f5b9f74251>\u001b[0m in \u001b[0;36m<module>\u001b[1;34m\u001b[0m\n\u001b[0;32m      1\u001b[0m \u001b[1;32mfor\u001b[0m \u001b[0mindex\u001b[0m\u001b[1;33m,\u001b[0m \u001b[0mrow\u001b[0m \u001b[1;32min\u001b[0m \u001b[0menumerate\u001b[0m\u001b[1;33m(\u001b[0m\u001b[0mplanets_list\u001b[0m\u001b[1;33m)\u001b[0m\u001b[1;33m:\u001b[0m\u001b[1;33m\u001b[0m\u001b[1;33m\u001b[0m\u001b[0m\n\u001b[1;32m----> 2\u001b[1;33m     \u001b[0mdf_planets\u001b[0m\u001b[1;33m.\u001b[0m\u001b[0mloc\u001b[0m\u001b[1;33m[\u001b[0m\u001b[0mindex\u001b[0m\u001b[1;33m,\u001b[0m\u001b[1;34m'name'\u001b[0m\u001b[1;33m]\u001b[0m \u001b[1;33m=\u001b[0m \u001b[0mrow\u001b[0m\u001b[1;33m[\u001b[0m\u001b[1;34m'name'\u001b[0m\u001b[1;33m]\u001b[0m\u001b[1;33m\u001b[0m\u001b[1;33m\u001b[0m\u001b[0m\n\u001b[0m\u001b[0;32m      3\u001b[0m     \u001b[0mdf_planets\u001b[0m\u001b[1;33m.\u001b[0m\u001b[0mloc\u001b[0m\u001b[1;33m[\u001b[0m\u001b[0mindex\u001b[0m\u001b[1;33m,\u001b[0m\u001b[1;34m'climate'\u001b[0m\u001b[1;33m]\u001b[0m \u001b[1;33m=\u001b[0m \u001b[0mrow\u001b[0m\u001b[1;33m[\u001b[0m\u001b[1;34m'climate'\u001b[0m\u001b[1;33m]\u001b[0m\u001b[1;33m\u001b[0m\u001b[1;33m\u001b[0m\u001b[0m\n\u001b[0;32m      4\u001b[0m     \u001b[0mdf_planets\u001b[0m\u001b[1;33m.\u001b[0m\u001b[0mloc\u001b[0m\u001b[1;33m[\u001b[0m\u001b[0mindex\u001b[0m\u001b[1;33m,\u001b[0m\u001b[1;34m'terrain'\u001b[0m\u001b[1;33m]\u001b[0m \u001b[1;33m=\u001b[0m \u001b[0mrow\u001b[0m\u001b[1;33m[\u001b[0m\u001b[1;34m'terrain'\u001b[0m\u001b[1;33m]\u001b[0m\u001b[1;33m\u001b[0m\u001b[1;33m\u001b[0m\u001b[0m\n\u001b[0;32m      5\u001b[0m     \u001b[0mdf_planets\u001b[0m\u001b[1;33m.\u001b[0m\u001b[0mloc\u001b[0m\u001b[1;33m[\u001b[0m\u001b[0mindex\u001b[0m\u001b[1;33m,\u001b[0m\u001b[1;34m'population'\u001b[0m\u001b[1;33m]\u001b[0m \u001b[1;33m=\u001b[0m \u001b[0mrow\u001b[0m\u001b[1;33m[\u001b[0m\u001b[1;34m'population'\u001b[0m\u001b[1;33m]\u001b[0m\u001b[1;33m\u001b[0m\u001b[1;33m\u001b[0m\u001b[0m\n",
      "\u001b[1;31mTypeError\u001b[0m: string indices must be integers"
     ]
    }
   ],
   "source": [
    "for index, row in enumerate(planets_list):\n",
    "    df_planets.loc[index,'name'] = row['name']\n",
    "    df_planets.loc[index,'climate'] = row['climate']\n",
    "    df_planets.loc[index,'terrain'] = row['terrain']\n",
    "    df_planets.loc[index,'population'] = row['population']\n",
    "df_planets"
   ]
  }
 ],
 "metadata": {
  "kernelspec": {
   "display_name": "Python 3",
   "language": "python",
   "name": "python3"
  },
  "language_info": {
   "codemirror_mode": {
    "name": "ipython",
    "version": 3
   },
   "file_extension": ".py",
   "mimetype": "text/x-python",
   "name": "python",
   "nbconvert_exporter": "python",
   "pygments_lexer": "ipython3",
   "version": "3.8.8"
  }
 },
 "nbformat": 4,
 "nbformat_minor": 5
}
