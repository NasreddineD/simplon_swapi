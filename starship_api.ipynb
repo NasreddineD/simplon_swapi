{
 "cells": [
  {
   "cell_type": "code",
   "execution_count": 286,
   "id": "1b408271",
   "metadata": {},
   "outputs": [],
   "source": [
    "import json\n",
    "import pandas as pd\n",
    "import requests\n",
    "import numpy as np"
   ]
  },
  {
   "cell_type": "code",
   "execution_count": 287,
   "id": "e45eceaa",
   "metadata": {},
   "outputs": [],
   "source": [
    "n_page = 4"
   ]
  },
  {
   "cell_type": "code",
   "execution_count": 288,
   "id": "2ac3835d",
   "metadata": {},
   "outputs": [],
   "source": [
    "uri = 'https://swapi.dev/api/starships'"
   ]
  },
  {
   "cell_type": "code",
   "execution_count": 330,
   "id": "ecaccde9",
   "metadata": {},
   "outputs": [
    {
     "data": {
      "text/plain": [
       "'https://swapi.dev/api/starships/?page=4'"
      ]
     },
     "execution_count": 330,
     "metadata": {},
     "output_type": "execute_result"
    }
   ],
   "source": [
    "url = uri\n",
    "if n_page > 1:\n",
    "    url = f'{uri}/?page={str(n_page)}'\n",
    "    \n",
    "url"
   ]
  },
  {
   "cell_type": "code",
   "execution_count": 331,
   "id": "609d67c7",
   "metadata": {},
   "outputs": [],
   "source": [
    "r = requests.get(url)"
   ]
  },
  {
   "cell_type": "markdown",
   "id": "3f62493e",
   "metadata": {},
   "source": [
    "# CODE REFECTORING"
   ]
  },
  {
   "cell_type": "code",
   "execution_count": 329,
   "id": "b68bd56a",
   "metadata": {},
   "outputs": [],
   "source": [
    "def fetch_starship(n_page):\n",
    "    url = f'https://swapi.dev/api/starships'\n",
    "    if n_page > 0:\n",
    "        url = f'{uri}/?page={str(n_page)}'\n",
    "    r = requests.get(url)\n",
    "    if r.status_code == 200:\n",
    "        data = r.json()\n",
    "        results_list = data['results']\n",
    "        return results_list\n",
    "    else:\n",
    "        return None"
   ]
  },
  {
   "cell_type": "code",
   "execution_count": 309,
   "id": "bf1d63d4",
   "metadata": {},
   "outputs": [
    {
     "data": {
      "text/plain": [
       "[{'name': 'Naboo star skiff',\n",
       "  'model': 'J-type star skiff',\n",
       "  'manufacturer': 'Theed Palace Space Vessel Engineering Corps/Nubia Star Drives, Incorporated',\n",
       "  'cost_in_credits': 'unknown',\n",
       "  'length': '29.2',\n",
       "  'max_atmosphering_speed': '1050',\n",
       "  'crew': '3',\n",
       "  'passengers': '3',\n",
       "  'cargo_capacity': 'unknown',\n",
       "  'consumables': 'unknown',\n",
       "  'hyperdrive_rating': '0.5',\n",
       "  'MGLT': 'unknown',\n",
       "  'starship_class': 'yacht',\n",
       "  'pilots': ['https://swapi.dev/api/people/10/',\n",
       "   'https://swapi.dev/api/people/35/'],\n",
       "  'films': ['https://swapi.dev/api/films/6/'],\n",
       "  'created': '2014-12-20T19:55:15.396000Z',\n",
       "  'edited': '2014-12-20T21:23:49.948000Z',\n",
       "  'url': 'https://swapi.dev/api/starships/64/'},\n",
       " {'name': 'Jedi Interceptor',\n",
       "  'model': 'Eta-2 Actis-class light interceptor',\n",
       "  'manufacturer': 'Kuat Systems Engineering',\n",
       "  'cost_in_credits': '320000',\n",
       "  'length': '5.47',\n",
       "  'max_atmosphering_speed': '1500',\n",
       "  'crew': '1',\n",
       "  'passengers': '0',\n",
       "  'cargo_capacity': '60',\n",
       "  'consumables': '2 days',\n",
       "  'hyperdrive_rating': '1.0',\n",
       "  'MGLT': 'unknown',\n",
       "  'starship_class': 'starfighter',\n",
       "  'pilots': ['https://swapi.dev/api/people/10/',\n",
       "   'https://swapi.dev/api/people/11/'],\n",
       "  'films': ['https://swapi.dev/api/films/6/'],\n",
       "  'created': '2014-12-20T19:56:57.468000Z',\n",
       "  'edited': '2014-12-20T21:23:49.951000Z',\n",
       "  'url': 'https://swapi.dev/api/starships/65/'},\n",
       " {'name': 'arc-170',\n",
       "  'model': 'Aggressive Reconnaissance-170 starfighte',\n",
       "  'manufacturer': 'Incom Corporation, Subpro Corporation',\n",
       "  'cost_in_credits': '155000',\n",
       "  'length': '14.5',\n",
       "  'max_atmosphering_speed': '1000',\n",
       "  'crew': '3',\n",
       "  'passengers': '0',\n",
       "  'cargo_capacity': '110',\n",
       "  'consumables': '5 days',\n",
       "  'hyperdrive_rating': '1.0',\n",
       "  'MGLT': '100',\n",
       "  'starship_class': 'starfighter',\n",
       "  'pilots': [],\n",
       "  'films': ['https://swapi.dev/api/films/6/'],\n",
       "  'created': '2014-12-20T20:03:48.603000Z',\n",
       "  'edited': '2014-12-20T21:23:49.953000Z',\n",
       "  'url': 'https://swapi.dev/api/starships/66/'},\n",
       " {'name': 'Banking clan frigte',\n",
       "  'model': 'Munificent-class star frigate',\n",
       "  'manufacturer': 'Hoersch-Kessel Drive, Inc, Gwori Revolutionary Industries',\n",
       "  'cost_in_credits': '57000000',\n",
       "  'length': '825',\n",
       "  'max_atmosphering_speed': 'unknown',\n",
       "  'crew': '200',\n",
       "  'passengers': 'unknown',\n",
       "  'cargo_capacity': '40000000',\n",
       "  'consumables': '2 years',\n",
       "  'hyperdrive_rating': '1.0',\n",
       "  'MGLT': 'unknown',\n",
       "  'starship_class': 'cruiser',\n",
       "  'pilots': [],\n",
       "  'films': ['https://swapi.dev/api/films/6/'],\n",
       "  'created': '2014-12-20T20:07:11.538000Z',\n",
       "  'edited': '2014-12-20T21:23:49.956000Z',\n",
       "  'url': 'https://swapi.dev/api/starships/68/'},\n",
       " {'name': 'Belbullab-22 starfighter',\n",
       "  'model': 'Belbullab-22 starfighter',\n",
       "  'manufacturer': 'Feethan Ottraw Scalable Assemblies',\n",
       "  'cost_in_credits': '168000',\n",
       "  'length': '6.71',\n",
       "  'max_atmosphering_speed': '1100',\n",
       "  'crew': '1',\n",
       "  'passengers': '0',\n",
       "  'cargo_capacity': '140',\n",
       "  'consumables': '7 days',\n",
       "  'hyperdrive_rating': '6',\n",
       "  'MGLT': 'unknown',\n",
       "  'starship_class': 'starfighter',\n",
       "  'pilots': ['https://swapi.dev/api/people/10/',\n",
       "   'https://swapi.dev/api/people/79/'],\n",
       "  'films': ['https://swapi.dev/api/films/6/'],\n",
       "  'created': '2014-12-20T20:38:05.031000Z',\n",
       "  'edited': '2014-12-20T21:23:49.959000Z',\n",
       "  'url': 'https://swapi.dev/api/starships/74/'},\n",
       " {'name': 'V-wing',\n",
       "  'model': 'Alpha-3 Nimbus-class V-wing starfighter',\n",
       "  'manufacturer': 'Kuat Systems Engineering',\n",
       "  'cost_in_credits': '102500',\n",
       "  'length': '7.9',\n",
       "  'max_atmosphering_speed': '1050',\n",
       "  'crew': '1',\n",
       "  'passengers': '0',\n",
       "  'cargo_capacity': '60',\n",
       "  'consumables': '15 hours',\n",
       "  'hyperdrive_rating': '1.0',\n",
       "  'MGLT': 'unknown',\n",
       "  'starship_class': 'starfighter',\n",
       "  'pilots': [],\n",
       "  'films': ['https://swapi.dev/api/films/6/'],\n",
       "  'created': '2014-12-20T20:43:04.349000Z',\n",
       "  'edited': '2014-12-20T21:23:49.961000Z',\n",
       "  'url': 'https://swapi.dev/api/starships/75/'}]"
      ]
     },
     "execution_count": 309,
     "metadata": {},
     "output_type": "execute_result"
    }
   ],
   "source": [
    "starship_list = fetch_starship(4)\n",
    "starship_list"
   ]
  },
  {
   "cell_type": "code",
   "execution_count": 332,
   "id": "ae5d6e45",
   "metadata": {},
   "outputs": [
    {
     "data": {
      "text/html": [
       "<div>\n",
       "<style scoped>\n",
       "    .dataframe tbody tr th:only-of-type {\n",
       "        vertical-align: middle;\n",
       "    }\n",
       "\n",
       "    .dataframe tbody tr th {\n",
       "        vertical-align: top;\n",
       "    }\n",
       "\n",
       "    .dataframe thead th {\n",
       "        text-align: right;\n",
       "    }\n",
       "</style>\n",
       "<table border=\"1\" class=\"dataframe\">\n",
       "  <thead>\n",
       "    <tr style=\"text-align: right;\">\n",
       "      <th></th>\n",
       "      <th>name</th>\n",
       "      <th>model</th>\n",
       "      <th>manufacturer</th>\n",
       "      <th>crew</th>\n",
       "      <th>passengers</th>\n",
       "      <th>starship_class</th>\n",
       "    </tr>\n",
       "  </thead>\n",
       "  <tbody>\n",
       "  </tbody>\n",
       "</table>\n",
       "</div>"
      ],
      "text/plain": [
       "Empty DataFrame\n",
       "Columns: [name, model, manufacturer, crew, passengers, starship_class]\n",
       "Index: []"
      ]
     },
     "execution_count": 332,
     "metadata": {},
     "output_type": "execute_result"
    }
   ],
   "source": [
    "columns = ['name','model','manufacturer','crew','passengers','starship_class']\n",
    "starship_df = pd.DataFrame(columns=columns)\n",
    "starship_df"
   ]
  },
  {
   "cell_type": "code",
   "execution_count": null,
   "id": "10e796b1",
   "metadata": {},
   "outputs": [],
   "source": []
  },
  {
   "cell_type": "code",
   "execution_count": 311,
   "id": "26ee4870",
   "metadata": {},
   "outputs": [],
   "source": [
    "for index, row in enumerate(starship_list):\n",
    "    starship_df.loc[index,'name'] = row['name']\n",
    "    starship_df.loc[index,'model'] = row['model']\n",
    "    starship_df.loc[index,'manufacturer'] = row['manufacturer']\n",
    "    starship_df.loc[index,'crew'] = row['crew']\n",
    "    starship_df.loc[index,'passengers'] = row['passengers']\n",
    "    starship_df.loc[index,'starship_class'] = row['starship_class']\n",
    "    "
   ]
  },
  {
   "cell_type": "code",
   "execution_count": 312,
   "id": "5044b3b9",
   "metadata": {},
   "outputs": [
    {
     "data": {
      "text/html": [
       "<div>\n",
       "<style scoped>\n",
       "    .dataframe tbody tr th:only-of-type {\n",
       "        vertical-align: middle;\n",
       "    }\n",
       "\n",
       "    .dataframe tbody tr th {\n",
       "        vertical-align: top;\n",
       "    }\n",
       "\n",
       "    .dataframe thead th {\n",
       "        text-align: right;\n",
       "    }\n",
       "</style>\n",
       "<table border=\"1\" class=\"dataframe\">\n",
       "  <thead>\n",
       "    <tr style=\"text-align: right;\">\n",
       "      <th></th>\n",
       "      <th>name</th>\n",
       "      <th>model</th>\n",
       "      <th>manufacturer</th>\n",
       "      <th>crew</th>\n",
       "      <th>passengers</th>\n",
       "      <th>starship_class</th>\n",
       "    </tr>\n",
       "  </thead>\n",
       "  <tbody>\n",
       "    <tr>\n",
       "      <th>0</th>\n",
       "      <td>Naboo star skiff</td>\n",
       "      <td>J-type star skiff</td>\n",
       "      <td>Theed Palace Space Vessel Engineering Corps/Nu...</td>\n",
       "      <td>3</td>\n",
       "      <td>3</td>\n",
       "      <td>yacht</td>\n",
       "    </tr>\n",
       "    <tr>\n",
       "      <th>1</th>\n",
       "      <td>Jedi Interceptor</td>\n",
       "      <td>Eta-2 Actis-class light interceptor</td>\n",
       "      <td>Kuat Systems Engineering</td>\n",
       "      <td>1</td>\n",
       "      <td>0</td>\n",
       "      <td>starfighter</td>\n",
       "    </tr>\n",
       "    <tr>\n",
       "      <th>2</th>\n",
       "      <td>arc-170</td>\n",
       "      <td>Aggressive Reconnaissance-170 starfighte</td>\n",
       "      <td>Incom Corporation, Subpro Corporation</td>\n",
       "      <td>3</td>\n",
       "      <td>0</td>\n",
       "      <td>starfighter</td>\n",
       "    </tr>\n",
       "    <tr>\n",
       "      <th>3</th>\n",
       "      <td>Banking clan frigte</td>\n",
       "      <td>Munificent-class star frigate</td>\n",
       "      <td>Hoersch-Kessel Drive, Inc, Gwori Revolutionary...</td>\n",
       "      <td>200</td>\n",
       "      <td>unknown</td>\n",
       "      <td>cruiser</td>\n",
       "    </tr>\n",
       "    <tr>\n",
       "      <th>4</th>\n",
       "      <td>Belbullab-22 starfighter</td>\n",
       "      <td>Belbullab-22 starfighter</td>\n",
       "      <td>Feethan Ottraw Scalable Assemblies</td>\n",
       "      <td>1</td>\n",
       "      <td>0</td>\n",
       "      <td>starfighter</td>\n",
       "    </tr>\n",
       "    <tr>\n",
       "      <th>5</th>\n",
       "      <td>V-wing</td>\n",
       "      <td>Alpha-3 Nimbus-class V-wing starfighter</td>\n",
       "      <td>Kuat Systems Engineering</td>\n",
       "      <td>1</td>\n",
       "      <td>0</td>\n",
       "      <td>starfighter</td>\n",
       "    </tr>\n",
       "  </tbody>\n",
       "</table>\n",
       "</div>"
      ],
      "text/plain": [
       "                       name                                     model  \\\n",
       "0          Naboo star skiff                         J-type star skiff   \n",
       "1          Jedi Interceptor       Eta-2 Actis-class light interceptor   \n",
       "2                   arc-170  Aggressive Reconnaissance-170 starfighte   \n",
       "3       Banking clan frigte             Munificent-class star frigate   \n",
       "4  Belbullab-22 starfighter                  Belbullab-22 starfighter   \n",
       "5                    V-wing   Alpha-3 Nimbus-class V-wing starfighter   \n",
       "\n",
       "                                        manufacturer crew passengers  \\\n",
       "0  Theed Palace Space Vessel Engineering Corps/Nu...    3          3   \n",
       "1                           Kuat Systems Engineering    1          0   \n",
       "2              Incom Corporation, Subpro Corporation    3          0   \n",
       "3  Hoersch-Kessel Drive, Inc, Gwori Revolutionary...  200    unknown   \n",
       "4                 Feethan Ottraw Scalable Assemblies    1          0   \n",
       "5                           Kuat Systems Engineering    1          0   \n",
       "\n",
       "  starship_class  \n",
       "0          yacht  \n",
       "1    starfighter  \n",
       "2    starfighter  \n",
       "3        cruiser  \n",
       "4    starfighter  \n",
       "5    starfighter  "
      ]
     },
     "execution_count": 312,
     "metadata": {},
     "output_type": "execute_result"
    }
   ],
   "source": [
    "starship_df"
   ]
  },
  {
   "cell_type": "code",
   "execution_count": null,
   "id": "ca0b0677",
   "metadata": {},
   "outputs": [],
   "source": []
  },
  {
   "cell_type": "code",
   "execution_count": null,
   "id": "fb9adeb2",
   "metadata": {},
   "outputs": [],
   "source": []
  }
 ],
 "metadata": {
  "kernelspec": {
   "display_name": "Python 3",
   "language": "python",
   "name": "python3"
  },
  "language_info": {
   "codemirror_mode": {
    "name": "ipython",
    "version": 3
   },
   "file_extension": ".py",
   "mimetype": "text/x-python",
   "name": "python",
   "nbconvert_exporter": "python",
   "pygments_lexer": "ipython3",
   "version": "3.8.8"
  }
 },
 "nbformat": 4,
 "nbformat_minor": 5
}
